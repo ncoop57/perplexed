{
 "cells": [
  {
   "cell_type": "code",
   "execution_count": null,
   "metadata": {},
   "outputs": [],
   "source": [
    "#| hide\n",
    "import logging\n",
    "\n",
    "# Turn off logging for datasets\n",
    "logging.getLogger(\"datasets\").setLevel(logging.ERROR)"
   ]
  },
  {
   "cell_type": "markdown",
   "metadata": {},
   "source": [
    "# Tutorial - Exploratory Data Analysis\n",
    "\n",
    "> This notebook is a tutorial on how to use the `perplexed` library to perform exploratory data analysis (EDA) on a dataset. It is intended to be a quick introduction to the library, and is not intended to be a comprehensive guide to the library."
   ]
  },
  {
   "cell_type": "markdown",
   "metadata": {},
   "source": [
    "Let's get some data to work with. We'll use the `wikitext` dataset from the `datasets` library."
   ]
  },
  {
   "cell_type": "code",
   "execution_count": null,
   "metadata": {},
   "outputs": [
    {
     "name": "stderr",
     "output_type": "stream",
     "text": [
      "/home/nathan/miniconda3/envs/perplexed/lib/python3.10/site-packages/tqdm/auto.py:22: TqdmWarning: IProgress not found. Please update jupyter and ipywidgets. See https://ipywidgets.readthedocs.io/en/stable/user_install.html\n",
      "  from .autonotebook import tqdm as notebook_tqdm\n",
      "Found cached dataset wikitext (/home/nathan/.cache/huggingface/datasets/wikitext/wikitext-103-raw-v1/1.0.0/a241db52902eaf2c6aa732210bead40c090019a499ceb13bcbfa3f8ab646a126)\n",
      "Loading cached processed dataset at /home/nathan/.cache/huggingface/datasets/wikitext/wikitext-103-raw-v1/1.0.0/a241db52902eaf2c6aa732210bead40c090019a499ceb13bcbfa3f8ab646a126/cache-ceb6bd7c8619d4cb.arrow\n"
     ]
    }
   ],
   "source": [
    "from datasets import load_dataset\n",
    "\n",
    "dataset = load_dataset(\"wikitext\", \"wikitext-103-raw-v1\", split=\"test\").select(range(1_000))\n",
    "dataset = dataset.filter(lambda x: len(x[\"text\"]) > 0)"
   ]
  },
  {
   "cell_type": "markdown",
   "metadata": {},
   "source": [
    "Now let's find a model to use. We'll use the `EleutherAI/gpt-neo-125M` model from the `transformers` library."
   ]
  },
  {
   "cell_type": "code",
   "execution_count": null,
   "metadata": {},
   "outputs": [],
   "source": [
    "from transformers import AutoTokenizer, AutoModelForCausalLM\n",
    "\n",
    "tokenizer = AutoTokenizer.from_pretrained(\"EleutherAI/gpt-neo-125M\")\n",
    "model = AutoModelForCausalLM.from_pretrained(\"EleutherAI/gpt-neo-125M\")"
   ]
  },
  {
   "cell_type": "markdown",
   "metadata": {},
   "source": [
    "Now that all of that is done, we can start using `perplexed` to perform EDA on the dataset. Let's run our model on the dataset and get the perplexity of each sample."
   ]
  },
  {
   "cell_type": "code",
   "execution_count": null,
   "metadata": {},
   "outputs": [
    {
     "name": "stderr",
     "output_type": "stream",
     "text": [
      "Loading cached processed dataset at /home/nathan/.cache/huggingface/datasets/wikitext/wikitext-103-raw-v1/1.0.0/a241db52902eaf2c6aa732210bead40c090019a499ceb13bcbfa3f8ab646a126/cache-35d4a307752a997a.arrow\n"
     ]
    }
   ],
   "source": [
    "from perplexed.core import perplexed\n",
    "\n",
    "perplexity_cnt, token_cnt = perplexed(\n",
    "    model,\n",
    "    dataset,\n",
    "    tokenizer=tokenizer,\n",
    "    column=\"text\",\n",
    "    batch_size=1,\n",
    "    device=\"cpu\",\n",
    "    return_tokens=True\n",
    ")"
   ]
  },
  {
   "cell_type": "markdown",
   "metadata": {},
   "source": [
    "The `perplexed` function returns two values: a Counter object containing the perplexity of each token, and the total number of tokens in the dataset. We can now explore things like what the most perplexed tokens are:"
   ]
  },
  {
   "cell_type": "code",
   "execution_count": null,
   "metadata": {},
   "outputs": [
    {
     "data": {
      "text/plain": [
       "[(' unavoid', 6007780352.0),\n",
       " (' Explosive', 188573856.0),\n",
       " (' wired', 60983452.0),\n",
       " (' 768', 21569920.0),\n",
       " (' ridden', 15362581.0),\n",
       " (' Influ', 15165454.0),\n",
       " (' esche', 14969172.0),\n",
       " (' reluctant', 14123441.0),\n",
       " (' succumb', 12422194.0),\n",
       " (' Arm', 12384815.0)]"
      ]
     },
     "execution_count": null,
     "metadata": {},
     "output_type": "execute_result"
    }
   ],
   "source": [
    "perplexity_cnt.most_common(10)"
   ]
  },
  {
   "cell_type": "markdown",
   "metadata": {},
   "source": [
    "You can also look at what the perplexity is for the most common tokens:"
   ]
  },
  {
   "cell_type": "code",
   "execution_count": null,
   "metadata": {},
   "outputs": [
    {
     "name": "stdout",
     "output_type": "stream",
     "text": [
      " the 3.5897090435028076\n",
      ", 21.938007354736328\n",
      ". 10.295743942260742\n",
      " of 2.934633731842041\n",
      " and 9.320274353027344\n",
      " in 10.81938648223877\n",
      " to 4.0181355476379395\n",
      " a 10.546797752380371\n",
      " @ 10436.27734375\n",
      "@ 29.87317657470703\n"
     ]
    }
   ],
   "source": [
    "tokens, _ = zip(*token_cnt.most_common(10))\n",
    "# show the perplexity for the most common tokens\n",
    "for token in tokens:\n",
    "    print(token, perplexity_cnt[token])"
   ]
  },
  {
   "cell_type": "markdown",
   "metadata": {},
   "source": [
    "Or you can do the least common tokens:"
   ]
  },
  {
   "cell_type": "code",
   "execution_count": null,
   "metadata": {},
   "outputs": [
    {
     "name": "stdout",
     "output_type": "stream",
     "text": [
      " designation 18.893896102905273\n",
      " 99 4433.51416015625\n",
      " Much 3717.565185546875\n",
      " urban 15859.9248046875\n",
      " residential 4258.7236328125\n",
      " businesses 3.116973638534546\n",
      " rural 691.44921875\n",
      " Rural 65607.2265625\n",
      " Cemetery 24.99341583251953\n",
      " terminating 93.44629669189453\n"
     ]
    }
   ],
   "source": [
    "tokens, _ = zip(*token_cnt.most_common()[-10:])\n",
    "# show the perplexity for the least common tokens\n",
    "for token in tokens:\n",
    "    print(token, perplexity_cnt[token])"
   ]
  },
  {
   "cell_type": "markdown",
   "metadata": {},
   "source": [
    "Now if you want to look at the distribution of perplexities, you can do that too!"
   ]
  },
  {
   "cell_type": "code",
   "execution_count": null,
   "metadata": {},
   "outputs": [
    {
     "name": "stderr",
     "output_type": "stream",
     "text": [
      "Loading cached processed dataset at /home/nathan/.cache/huggingface/datasets/wikitext/wikitext-103-raw-v1/1.0.0/a241db52902eaf2c6aa732210bead40c090019a499ceb13bcbfa3f8ab646a126/cache-35d4a307752a997a.arrow\n"
     ]
    }
   ],
   "source": [
    "perplexity_dist, token_cnt = perplexed(\n",
    "    model,\n",
    "    dataset,\n",
    "    tokenizer=tokenizer,\n",
    "    column=\"text\",\n",
    "    batch_size=1,\n",
    "    device=\"cpu\",\n",
    "    return_tokens=True,\n",
    "    return_distributions=True,\n",
    ")"
   ]
  },
  {
   "cell_type": "markdown",
   "metadata": {},
   "source": [
    "Now instead of a Counter object, `perplexed` returns a dictionary mapping each token to the different perplexities it has. So, if we are so inclined, we could make a boxplot of the perplexities for each token:"
   ]
  },
  {
   "cell_type": "code",
   "execution_count": null,
   "metadata": {},
   "outputs": [
    {
     "data": {
      "image/png": "[encoded data removed]",
      "text/plain": [
       "<Figure size 1000x600 with 1 Axes>"
      ]
     },
     "metadata": {},
     "output_type": "display_data"
    }
   ],
   "source": [
    "# boxplot the distribution of perplexities for the most common tokens\n",
    "import matplotlib.pyplot as plt\n",
    "import numpy as np\n",
    "import seaborn as sns\n",
    "\n",
    "sns.set_theme(style=\"whitegrid\")\n",
    "\n",
    "most_common = token_cnt.most_common(15)\n",
    "most_common_tokens = [token for token, _ in most_common]\n",
    "most_common_perplexities = [list(filter(lambda x: x < 10, perplexity_dist[token])) for token in most_common_tokens]\n",
    "\n",
    "fig, ax = plt.subplots(figsize=(10, 6))\n",
    "ax = sns.boxplot(data=most_common_perplexities, palette=\"Set2\")\n",
    "ax.set_xticklabels(most_common_tokens)\n",
    "ax.set_title(\"Perplexity Distribution for the Most Common Tokens\")\n",
    "plt.show()"
   ]
  },
  {
   "cell_type": "code",
   "execution_count": null,
   "metadata": {},
   "outputs": [],
   "source": [
    "#| hide\n",
    "import nbdev; nbdev.nbdev_export()"
   ]
  }
 ],
 "metadata": {
  "kernelspec": {
   "display_name": "Python 3.10.8 ('perplexed')",
   "language": "python",
   "name": "python3"
  }
 },
 "nbformat": 4,
 "nbformat_minor": 4
}
